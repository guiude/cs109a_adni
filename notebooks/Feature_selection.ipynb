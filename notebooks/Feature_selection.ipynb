{
 "cells": [
  {
   "cell_type": "markdown",
   "metadata": {},
   "source": [
    "# ADNI - Feature selection routine"
   ]
  },
  {
   "cell_type": "code",
   "execution_count": 1,
   "metadata": {},
   "outputs": [
    {
     "data": {
      "text/html": [
       "<style>\n",
       "    table {\n",
       "        display: inline-block\n",
       "    }\n",
       "    .rendered_html td, .rendered_html th {text-align: left;}\n",
       "</style>"
      ],
      "text/plain": [
       "<IPython.core.display.HTML object>"
      ]
     },
     "execution_count": 1,
     "metadata": {},
     "output_type": "execute_result"
    }
   ],
   "source": [
    "from  IPython.core.display  import HTML\n",
    "with open('project.css') as css:\n",
    "    styles = css.read()\n",
    "HTML(styles)"
   ]
  },
  {
   "cell_type": "code",
   "execution_count": 2,
   "metadata": {},
   "outputs": [],
   "source": [
    "import pandas as pd\n",
    "import numpy as np\n",
    "import matplotlib.pyplot as plt\n",
    "%matplotlib inline\n",
    "\n",
    "from sklearn.model_selection import cross_val_score\n",
    "from sklearn.linear_model import LassoCV\n",
    "from sklearn.linear_model import LogisticRegressionCV\n",
    "from sklearn.model_selection import train_test_split"
   ]
  },
  {
   "cell_type": "code",
   "execution_count": 3,
   "metadata": {},
   "outputs": [],
   "source": [
    "# Data preparation to test our function\n",
    "\n",
    "#Loading data\n",
    "data = pd.read_csv('patient_data.csv', sep='\\t', index_col=0)\n",
    "\n",
    "#Creating dummies from categorical data\n",
    "data = pd.concat([data, pd.get_dummies(data['PTGENDER'], prefix='PTGENDER')], axis=1)\n",
    "data = pd.concat([data, pd.get_dummies(data['PTETHCAT'], prefix='PTETHCAT')], axis=1)\n",
    "data = pd.concat([data, pd.get_dummies(data['PTRACCAT'], prefix='PTRACCAT')], axis=1)\n",
    "data = pd.concat([data, pd.get_dummies(data['PTMARRY'], prefix='PTMARRY')], axis=1)\n",
    "\n",
    "#creating binary column to test the feature selection function\n",
    "data['has_AD'] = data['DX_bl'].apply(lambda x: 1 if x == 'AD' else 0)\n",
    "\n",
    "#Dropping irrelevant/converted to dummies columns\n",
    "vars_to_drop = ['RID', 'PTID', 'update_stamp', 'DX_lv', 'FSVERSION', 'PTGENDER', 'VISCODE', \n",
    "               'PTETHCAT', 'PTRACCAT', 'PTMARRY', 'EXAMDATE', 'ORIGPROT', 'COLPROT']\n",
    "data.drop(vars_to_drop, axis=1, inplace=True)\n",
    "\n",
    "#Removing strings from the ABETA, TAU and PTAU columns\n",
    "#If the string indicates higher than x, x is assumed as the true value\n",
    "#If the string indicates lower than x, x/2 (midpoint between x and 0) is assumed as the true value\n",
    "data['ABETA'] = data['ABETA'].replace('>1700', 1700)\n",
    "data['ABETA'] = data['ABETA'].replace('<200', 100)\n",
    "data['TAU'] = data['TAU'].replace('<8', 4)\n",
    "data['TAU'] = data['TAU'].replace('<80', 40)\n",
    "data['TAU'] = data['TAU'].replace('>1300', 1300)\n",
    "data['PTAU'] = data['PTAU'].replace('<8', 4)\n",
    "data['PTAU'] = data['PTAU'].replace('>120', 120)\n",
    "\n",
    "#Removing rows with NaN and Inf (just for testing purposes)\n",
    "data = data.replace([np.inf, -np.inf], np.nan)\n",
    "data = data.replace(np.nan, 0)\n",
    "\n",
    "#Train-test separation\n",
    "data_train, data_test = train_test_split(data, test_size=0.3)\n",
    "\n",
    "#Creating X and y\n",
    "X_train = data_train.drop(['has_AD', 'DX_bl'], axis=1)\n",
    "X_test = data_test.drop(['has_AD', 'DX_bl'], axis=1)\n",
    "y_train = data_train['has_AD']\n",
    "y_test = data_test['has_AD']"
   ]
  },
  {
   "cell_type": "code",
   "execution_count": 4,
   "metadata": {},
   "outputs": [],
   "source": [
    "def feature_selector(X, y, tol=1e-8, resp_type='categorical'):\n",
    "    \"\"\"\n",
    "    This function performs feature selection using Lasso regularization\n",
    "    X: the dataset of predictiors (dataset is assumed to be already scaled/trimmed)\n",
    "    y: the response variable\n",
    "    tol: value below which coefficients are considered zero\n",
    "    resp_type: can assume 2 values: categorical or continuous - indicating the type of response variable\n",
    "    The function returns a list containing the numbers of columns that were selected in the predictors dataset\n",
    "    \"\"\"\n",
    "    if resp_type == 'categorical':\n",
    "        model = LogisticRegressionCV(cv=5, penalty='l1', solver='saga', max_iter=10000)\n",
    "        model.fit(X, y)\n",
    "        coefs = model.coef_\n",
    "        result = [i for i in range(len(coefs[0])) if np.abs(coefs[0][i])>tol]\n",
    "        return result\n",
    "    elif resp_type == 'continuous':\n",
    "        model = LassoCV(cv=5)\n",
    "        model.fit(X, y)\n",
    "        coefs = model.coef_\n",
    "        result = [i for i in range(len(coefs)) if np.abs(coefs[i])>tol]\n",
    "        return result\n",
    "    else:\n",
    "        return 'Error. Response type not recognized.'"
   ]
  },
  {
   "cell_type": "code",
   "execution_count": 5,
   "metadata": {},
   "outputs": [
    {
     "data": {
      "text/plain": [
       "[0, 6, 7, 37, 38, 39, 40, 41, 42, 43, 44]"
      ]
     },
     "execution_count": 5,
     "metadata": {},
     "output_type": "execute_result"
    }
   ],
   "source": [
    "#Running a test of the features that are the best predictors of AD in the first visit\n",
    "teste = feature_selector(X_train, y_train)\n",
    "teste"
   ]
  },
  {
   "cell_type": "code",
   "execution_count": 6,
   "metadata": {
    "scrolled": true
   },
   "outputs": [
    {
     "data": {
      "text/plain": [
       "Index(['SITE', 'ABETA', 'TAU', 'IMAGEUID', 'Ventricles', 'Hippocampus',\n",
       "       'WholeBrain', 'Entorhinal', 'Fusiform', 'MidTemp', 'ICV'],\n",
       "      dtype='object')"
      ]
     },
     "execution_count": 6,
     "metadata": {},
     "output_type": "execute_result"
    }
   ],
   "source": [
    "X_train.columns[teste]"
   ]
  },
  {
   "cell_type": "code",
   "execution_count": 7,
   "metadata": {},
   "outputs": [
    {
     "data": {
      "text/plain": [
       "[40]"
      ]
     },
     "execution_count": 7,
     "metadata": {},
     "output_type": "execute_result"
    }
   ],
   "source": [
    "#Another test on a continuous variable\n",
    "random_y = np.random.normal(10, 1, X_train.shape[0])\n",
    "\n",
    "test2 = feature_selector(X_train, random_y, tol=1e-30, resp_type='continuous')\n",
    "test2"
   ]
  },
  {
   "cell_type": "code",
   "execution_count": 8,
   "metadata": {},
   "outputs": [
    {
     "data": {
      "text/plain": [
       "Index(['WholeBrain'], dtype='object')"
      ]
     },
     "execution_count": 8,
     "metadata": {},
     "output_type": "execute_result"
    }
   ],
   "source": [
    "X_train.columns[test2]"
   ]
  }
 ],
 "metadata": {
  "kernelspec": {
   "display_name": "Python 3",
   "language": "python",
   "name": "python3"
  },
  "language_info": {
   "codemirror_mode": {
    "name": "ipython",
    "version": 3
   },
   "file_extension": ".py",
   "mimetype": "text/x-python",
   "name": "python",
   "nbconvert_exporter": "python",
   "pygments_lexer": "ipython3",
   "version": "3.6.5"
  }
 },
 "nbformat": 4,
 "nbformat_minor": 2
}
